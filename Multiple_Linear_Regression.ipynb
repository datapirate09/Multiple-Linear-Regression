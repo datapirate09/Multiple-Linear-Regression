{
 "cells": [
  {
   "cell_type": "code",
   "execution_count": null,
   "id": "2d373bb8-e9a5-4704-ba60-83943d9d8271",
   "metadata": {},
   "outputs": [
    {
     "name": "stdout",
     "output_type": "stream",
     "text": [
      "   age  experience  income\n",
      "0   25           1   30450\n",
      "1   30           3   35670\n",
      "2   47           2   31580\n",
      "3   32           5   40130\n",
      "4   43          10   47830\n"
     ]
    }
   ],
   "source": [
    "import pandas as pd\n",
    "import numpy as np\n",
    "from sklearn.model_selection import train_test_split\n",
    "from sklearn.preprocessing import StandardScaler\n",
    "from sklearn.metrics import mean_squared_error, r2_score\n",
    "salary_dataset = pd.read_csv(\"Your csv file destination\",low_memory=False)\n",
    "print(salary_dataset.head())"
   ]
  },
  {
   "cell_type": "code",
   "execution_count": 31,
   "id": "42fa53b0-c845-4200-b9dc-30d2bc885433",
   "metadata": {},
   "outputs": [],
   "source": [
    "input_features = ['age','experience']\n",
    "output_features = ['income']\n",
    "X = salary_dataset[input_features]\n",
    "Y = salary_dataset[output_features]"
   ]
  },
  {
   "cell_type": "code",
   "execution_count": 32,
   "id": "d0ec2e47-935e-4549-b542-dd3a719f10c3",
   "metadata": {},
   "outputs": [
    {
     "name": "stdout",
     "output_type": "stream",
     "text": [
      "[[25  1]\n",
      " [30  3]\n",
      " [47  2]\n",
      " [32  5]\n",
      " [43 10]\n",
      " [51  7]\n",
      " [28  5]\n",
      " [33  4]\n",
      " [37  5]\n",
      " [39  8]\n",
      " [29  1]\n",
      " [47  9]\n",
      " [54  5]\n",
      " [51  4]\n",
      " [44 12]\n",
      " [41  6]\n",
      " [58 17]\n",
      " [23  1]\n",
      " [44  9]\n",
      " [37 10]]\n",
      "[[30450]\n",
      " [35670]\n",
      " [31580]\n",
      " [40130]\n",
      " [47830]\n",
      " [41630]\n",
      " [41340]\n",
      " [37650]\n",
      " [40250]\n",
      " [45150]\n",
      " [27840]\n",
      " [46110]\n",
      " [36720]\n",
      " [34800]\n",
      " [51300]\n",
      " [38900]\n",
      " [63600]\n",
      " [30870]\n",
      " [44190]\n",
      " [48700]]\n"
     ]
    }
   ],
   "source": [
    "X = X.to_numpy()\n",
    "Y = Y.to_numpy()\n",
    "print(X)\n",
    "print(Y)"
   ]
  },
  {
   "cell_type": "code",
   "execution_count": 33,
   "id": "85368a40-ad1b-4d6e-9326-edc712525132",
   "metadata": {},
   "outputs": [],
   "source": [
    "X_train, X_test, y_train, y_test = train_test_split(X, Y, test_size=0.2, random_state=42)\n",
    "\n",
    "scaler_X = StandardScaler()\n",
    "X_train = scaler_X.fit_transform(X_train)\n",
    "X_test = scaler_X.transform(X_test)\n",
    "\n",
    "scaler_Y = StandardScaler()\n",
    "y_train = scaler_Y.fit_transform(y_train) \n",
    "y_test = scaler_Y.transform(y_test)"
   ]
  },
  {
   "cell_type": "code",
   "execution_count": 34,
   "id": "be110962-4376-4954-aad9-1883c51aab4b",
   "metadata": {},
   "outputs": [],
   "source": [
    "m, n = X_train.shape\n",
    "w = np.random.randn(n, 1) * 0.01\n",
    "b = 0"
   ]
  },
  {
   "cell_type": "code",
   "execution_count": 35,
   "id": "6e4bfe09-62fd-4c5a-91e6-3d196dad9369",
   "metadata": {},
   "outputs": [],
   "source": [
    "def compute_gradient(X,y,w,b):\n",
    "    dj_dw  = np.zeros((n,1))\n",
    "    dj_db = 0\n",
    "    no_of_observations, no_of_features = X.shape\n",
    "    for i in range(no_of_observations):\n",
    "        # err = (np.dot(X[i],w)- y[i])\n",
    "        err = (np.dot(X[i], w) + b - y[i])\n",
    "        for j in range(no_of_features):\n",
    "            dj_dw[j] = dj_dw[j] + err * X[i][j]\n",
    "        dj_db = dj_db + err\n",
    "    dj_dw = dj_dw / no_of_observations\n",
    "    dj_db = dj_db / no_of_observations\n",
    "    return dj_dw,dj_db"
   ]
  },
  {
   "cell_type": "code",
   "execution_count": 36,
   "id": "c9d7f339-4804-4bfd-a5c5-116b48980611",
   "metadata": {},
   "outputs": [
    {
     "name": "stdout",
     "output_type": "stream",
     "text": [
      "Iteration 0, Loss: 0.9423250434653119\n",
      "Iteration 500, Loss: 0.02754741692404341\n",
      "Iteration 1000, Loss: 0.025886428870389253\n",
      "Iteration 1500, Loss: 0.025878648997408167\n",
      "Iteration 2000, Loss: 0.025878612552613523\n",
      "Iteration 2500, Loss: 0.02587861238188797\n",
      "Iteration 3000, Loss: 0.025878612381088215\n",
      "Iteration 3500, Loss: 0.02587861238108446\n",
      "Iteration 4000, Loss: 0.02587861238108444\n",
      "Iteration 4500, Loss: 0.025878612381084444\n"
     ]
    }
   ],
   "source": [
    "iterations = 5000  \n",
    "learning_rate = 0.01 \n",
    "\n",
    "for i in range(iterations):\n",
    "    change_in_w, change_in_b = compute_gradient(X_train, y_train, w, b)\n",
    "    w -= learning_rate * change_in_w\n",
    "    b -= learning_rate * change_in_b\n",
    "    if i % 500 == 0:\n",
    "        loss = mean_squared_error(y_train, np.dot(X_train, w) + b)\n",
    "        print(f\"Iteration {i}, Loss: {loss}\")\n",
    "\n",
    "y_pred_scaled = np.dot(X_test, w) + b  \n",
    "y_pred = scaler_Y.inverse_transform(y_pred_scaled)\n",
    "y_test_original = scaler_Y.inverse_transform(y_test)"
   ]
  },
  {
   "cell_type": "code",
   "execution_count": 37,
   "id": "106ac76c-2d72-4f16-8bfc-6271c1d7eedd",
   "metadata": {},
   "outputs": [
    {
     "name": "stdout",
     "output_type": "stream",
     "text": [
      "Final MSE of our model: 753796.7693730458\n",
      "Final R² Score of our model: 0.9387098237078219\n"
     ]
    }
   ],
   "source": [
    "mse = mean_squared_error(y_test_original, y_pred)\n",
    "r2 = r2_score(y_test_original, y_pred)\n",
    "print(\"Final MSE of our model:\", mse)\n",
    "print(\"Final R² Score of our model:\", r2)"
   ]
  },
  {
   "cell_type": "code",
   "execution_count": 46,
   "id": "11851be0-0b4c-48ae-b8ca-0af6eeb143e5",
   "metadata": {},
   "outputs": [
    {
     "data": {
      "image/png": "[encoded data removed]",
      "text/plain": [
       "<Figure size 1000x700 with 1 Axes>"
      ]
     },
     "metadata": {},
     "output_type": "display_data"
    }
   ],
   "source": [
    "import matplotlib.pyplot as plt\n",
    "import numpy as np\n",
    "\n",
    "plt.figure(figsize=(10, 7))\n",
    "\n",
    "# Scatter plot for actual data\n",
    "plt.scatter(X_test[:, 1], y_test_original, color='blue', label='Actual Data')\n",
    "\n",
    "# Line plot for predicted values\n",
    "x_line = np.linspace(X_test[:, 1].min(), X_test[:, 1].max(), 100)\n",
    "y_line = w[1] * x_line + b  # Using only the coefficient for experience\n",
    "y_line = scaler_Y.inverse_transform(y_line.reshape(-1, 1)).flatten()  # Inverse transform\n",
    "\n",
    "plt.plot(x_line, y_line, color='red', label='Regression Line')\n",
    "\n",
    "plt.xlabel(\"Experience (Standardized)\")\n",
    "plt.ylabel(\"Income\")\n",
    "plt.title(\"Multiple Linear Regression - Experience vs. Income\")\n",
    "plt.legend()\n",
    "plt.show()\n"
   ]
  },
  {
   "cell_type": "code",
   "execution_count": 23,
   "id": "c87c364d-4ae9-4b5c-972d-6b5b014ef660",
   "metadata": {},
   "outputs": [
    {
     "name": "stdout",
     "output_type": "stream",
     "text": [
      "MSE: 753796.7693730462\n",
      "R² Score: 0.9387098237078219\n"
     ]
    }
   ],
   "source": [
    "# now lets try using predefined Linear Regression\n",
    "from sklearn.linear_model import LinearRegression\n",
    "model = LinearRegression()\n",
    "model.fit(X_train, y_train)\n",
    "y_pred_predefined = model.predict(X_test)\n",
    "mse_predefined_method = mean_squared_error(y_test, y_pred_predefined)\n",
    "r2_predefined_method = r2_score(y_test, y_pred_predefined)\n",
    "print(f\"MSE: {mse}\")\n",
    "print(f\"R² Score: {r2}\")"
   ]
  },
  {
   "cell_type": "code",
   "execution_count": null,
   "id": "0ca43856-f952-4c45-8eb9-2e19d702dfdf",
   "metadata": {},
   "outputs": [],
   "source": []
  }
 ],
 "metadata": {
  "kernelspec": {
   "display_name": "Python 3 (ipykernel)",
   "language": "python",
   "name": "python3"
  },
  "language_info": {
   "codemirror_mode": {
    "name": "ipython",
    "version": 3
   },
   "file_extension": ".py",
   "mimetype": "text/x-python",
   "name": "python",
   "nbconvert_exporter": "python",
   "pygments_lexer": "ipython3",
   "version": "3.12.2"
  }
 },
 "nbformat": 4,
 "nbformat_minor": 5
}
